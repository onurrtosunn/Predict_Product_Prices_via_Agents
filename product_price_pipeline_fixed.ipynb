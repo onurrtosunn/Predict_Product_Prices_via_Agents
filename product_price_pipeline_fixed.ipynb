{
 "cells": [
  {
   "cell_type": "markdown",
   "id": "header",
   "metadata": {},
   "source": [
    "# Product Price Prediction - Data Curation Pipeline\n",
    "\n",
    "**Dataset**: Amazon Reviews 2023 (McAuley-Lab)  \n",
    "**Objective**: Curate balanced dataset for price prediction model training"
   ]
  },
  {
   "cell_type": "markdown",
   "id": "setup",
   "metadata": {},
   "source": [
    "## Environment Setup"
   ]
  },
  {
   "cell_type": "code",
   "execution_count": null,
   "id": "imports",
   "metadata": {},
   "outputs": [],
   "source": [
    "import os\n",
    "import logging\n",
    "from dotenv import load_dotenv\n",
    "from huggingface_hub import login\n",
    "import matplotlib.pyplot as plt\n",
    "\n",
    "from items import Item\n",
    "from loaders import ItemLoader\n",
    "from data_utils import DatasetBalancer, DatasetSplitter, DatasetExporter, DatasetAnalyzer\n",
    "from visualization import DataVisualizer\n",
    "from config import DATASET_CATEGORIES\n",
    "\n",
    "logging.basicConfig(level=logging.INFO, format='%(asctime)s - %(levelname)s - %(message)s')\n",
    "%matplotlib inline"
   ]
  },
  {
   "cell_type": "code",
   "execution_count": null,
   "id": "env_config",
   "metadata": {},
   "outputs": [],
   "source": [
    "load_dotenv(override=True)\n",
    "os.environ['OPENAI_API_KEY'] = os.getenv('OPENAI_API_KEY', 'your-key-if-not-using-env')\n",
    "os.environ['ANTHROPIC_API_KEY'] = os.getenv('ANTHROPIC_API_KEY', 'your-key-if-not-using-env')\n",
    "os.environ['HF_TOKEN'] = os.getenv('HF_TOKEN', 'your-key-if-not-using-env')"
   ]
  },
  {
   "cell_type": "code",
   "execution_count": null,
   "id": "hf_login",
   "metadata": {},
   "outputs": [],
   "source": [
    "hf_token = os.environ['HF_TOKEN']\n",
    "login(hf_token, add_to_git_credential=True)"
   ]
  },
  {
   "cell_type": "markdown",
   "id": "single_dataset",
   "metadata": {},
   "source": [
    "## Single Category Analysis (Appliances)"
   ]
  },
  {
   "cell_type": "code",
   "execution_count": null,
   "id": "load_appliances",
   "metadata": {},
   "outputs": [],
   "source": [
    "from datasets import load_dataset\n",
    "\n",
    "dataset = load_dataset(\n",
    "    \"McAuley-Lab/Amazon-Reviews-2023\",\n",
    "    \"raw_meta_Appliances\",\n",
    "    split=\"full\",\n",
    "    trust_remote_code=True\n",
    ")\n",
    "\n",
    "print(f\"Total appliances: {len(dataset):,}\")"
   ]
  },
  {
   "cell_type": "code",
   "execution_count": null,
   "id": "sample_datapoint",
   "metadata": {},
   "outputs": [],
   "source": [
    "datapoint = dataset[0]\n",
    "print(f\"Title: {datapoint['title']}\")\n",
    "print(f\"Price: {datapoint['price']}\")\n",
    "print(f\"Features: {len(datapoint['features'])} items\")"
   ]
  },
  {
   "cell_type": "code",
   "execution_count": null,
   "id": "price_coverage",
   "metadata": {},
   "outputs": [],
   "source": [
    "prices_count = 0\n",
    "for dp in dataset:\n",
    "    try:\n",
    "        price_str = dp.get('price')\n",
    "        if price_str and price_str != 'None':\n",
    "            price = float(price_str)\n",
    "            if price > 0:\n",
    "                prices_count += 1\n",
    "    except (ValueError, TypeError):\n",
    "        pass\n",
    "\n",
    "coverage = prices_count / len(dataset) * 100\n",
    "print(f\"Items with valid prices: {prices_count:,} ({coverage:.1f}%)\")"
   ]
  },
  {
   "cell_type": "code",
   "execution_count": null,
   "id": "raw_distributions",
   "metadata": {},
   "outputs": [],
   "source": [
    "prices = []\n",
    "lengths = []\n",
    "\n",
    "for dp in dataset:\n",
    "    try:\n",
    "        price_str = dp.get('price')\n",
    "        if price_str and price_str != 'None':\n",
    "            price = float(price_str)\n",
    "            if price > 0:\n",
    "                prices.append(price)\n",
    "                content = str(dp['title']) + str(dp['description']) + str(dp['features']) + str(dp['details'])\n",
    "                lengths.append(len(content))\n",
    "    except (ValueError, TypeError):\n",
    "        pass\n",
    "\n",
    "plt.figure(figsize=(15, 6))\n",
    "plt.title(f\"Content Length Distribution\\nAvg: {sum(lengths)/len(lengths):,.0f} | Max: {max(lengths):,}\")\n",
    "plt.xlabel('Characters')\n",
    "plt.ylabel('Count')\n",
    "plt.hist(lengths, rwidth=0.7, color='darkviolet', bins=range(0, 6000, 100))\n",
    "plt.show()"
   ]
  },
  {
   "cell_type": "code",
   "execution_count": null,
   "id": "raw_price_dist",
   "metadata": {},
   "outputs": [],
   "source": [
    "plt.figure(figsize=(15, 6))\n",
    "plt.title(f\"Raw Price Distribution\\nAvg: ${sum(prices)/len(prices):.2f} | Max: ${max(prices):,.2f}\")\n",
    "plt.xlabel('Price ($)')\n",
    "plt.ylabel('Count')\n",
    "plt.hist(prices, rwidth=0.7, color='navy', bins=range(0, 1000, 10))\n",
    "plt.show()"
   ]
  },
  {
   "cell_type": "markdown",
   "id": "process_single",
   "metadata": {},
   "source": [
    "## Process Single Category with Item Class"
   ]
  },
  {
   "cell_type": "code",
   "execution_count": null,
   "id": "create_items",
   "metadata": {},
   "outputs": [],
   "source": [
    "items = []\n",
    "\n",
    "for dp in dataset:\n",
    "    try:\n",
    "        price_str = dp.get('price')\n",
    "        if price_str and price_str != 'None':\n",
    "            price = float(price_str)\n",
    "            if price > 0:\n",
    "                item = Item(dp, price)\n",
    "                if item.include:\n",
    "                    items.append(item)\n",
    "    except (ValueError, TypeError):\n",
    "        pass\n",
    "\n",
    "print(f\"Curated items: {len(items):,}\")"
   ]
  },
  {
   "cell_type": "code",
   "execution_count": null,
   "id": "inspect_item",
   "metadata": {},
   "outputs": [],
   "source": [
    "print(\"Training Prompt:\")\n",
    "print(items[100].prompt)\n",
    "print(\"\\n\" + \"=\"*60 + \"\\n\")\n",
    "print(\"Test Prompt:\")\n",
    "print(items[100].test_prompt())"
   ]
  },
  {
   "cell_type": "code",
   "execution_count": null,
   "id": "visualize_single",
   "metadata": {},
   "outputs": [],
   "source": [
    "visualizer = DataVisualizer()\n",
    "visualizer.plot_token_distribution(items)\n",
    "visualizer.plot_price_distribution(items)"
   ]
  },
  {
   "cell_type": "markdown",
   "id": "multi_category",
   "metadata": {},
   "source": [
    "## Multi-Category Dataset Loading"
   ]
  },
  {
   "cell_type": "code",
   "execution_count": null,
   "id": "load_all_categories",
   "metadata": {},
   "outputs": [],
   "source": [
    "all_items = []\n",
    "\n",
    "for category in DATASET_CATEGORIES:\n",
    "    loader = ItemLoader(category)\n",
    "    items = loader.load(workers=8)\n",
    "    all_items.extend(items)\n",
    "\n",
    "print(f\"\\nTotal items loaded: {len(all_items):,}\")"
   ]
  },
  {
   "cell_type": "code",
   "execution_count": null,
   "id": "analyze_raw",
   "metadata": {},
   "outputs": [],
   "source": [
    "DatasetAnalyzer.print_statistics(all_items, \"Raw Dataset\")"
   ]
  },
  {
   "cell_type": "code",
   "execution_count": null,
   "id": "visualize_raw",
   "metadata": {},
   "outputs": [],
   "source": [
    "visualizer.plot_comprehensive_analysis(all_items, \"Raw Dataset\")"
   ]
  },
  {
   "cell_type": "markdown",
   "id": "balance",
   "metadata": {},
   "source": [
    "## Dataset Balancing\n",
    "\n",
    "Balance price distribution and reduce automotive category dominance"
   ]
  },
  {
   "cell_type": "code",
   "execution_count": null,
   "id": "balance_dataset",
   "metadata": {},
   "outputs": [],
   "source": [
    "balancer = DatasetBalancer()\n",
    "balanced_items = balancer.balance(all_items)\n",
    "\n",
    "print(f\"Balanced dataset: {len(balanced_items):,} items\")"
   ]
  },
  {
   "cell_type": "code",
   "execution_count": null,
   "id": "analyze_balanced",
   "metadata": {},
   "outputs": [],
   "source": [
    "DatasetAnalyzer.print_statistics(balanced_items, \"Balanced Dataset\")"
   ]
  },
  {
   "cell_type": "code",
   "execution_count": null,
   "id": "visualize_balanced",
   "metadata": {},
   "outputs": [],
   "source": [
    "visualizer.plot_comprehensive_analysis(balanced_items, \"Balanced Dataset\")"
   ]
  },
  {
   "cell_type": "markdown",
   "id": "split",
   "metadata": {},
   "source": [
    "## Train/Test Split"
   ]
  },
  {
   "cell_type": "code",
   "execution_count": null,
   "id": "split_dataset",
   "metadata": {},
   "outputs": [],
   "source": [
    "splitter = DatasetSplitter()\n",
    "train_items, test_items = splitter.split(balanced_items)\n",
    "\n",
    "print(f\"Training set: {len(train_items):,}\")\n",
    "print(f\"Test set: {len(test_items):,}\")"
   ]
  },
  {
   "cell_type": "code",
   "execution_count": null,
   "id": "analyze_splits",
   "metadata": {},
   "outputs": [],
   "source": [
    "DatasetAnalyzer.print_statistics(train_items, \"Training Set\")\n",
    "DatasetAnalyzer.print_statistics(test_items, \"Test Set\")"
   ]
  },
  {
   "cell_type": "code",
   "execution_count": null,
   "id": "visualize_test",
   "metadata": {},
   "outputs": [],
   "source": [
    "visualizer.plot_price_distribution(test_items[:250], \"Test Set Sample (250 items)\")"
   ]
  },
  {
   "cell_type": "markdown",
   "id": "export",
   "metadata": {},
   "source": [
    "## Export Datasets"
   ]
  },
  {
   "cell_type": "code",
   "execution_count": null,
   "id": "export_hf",
   "metadata": {},
   "outputs": [],
   "source": [
    "dataset_dict = DatasetExporter.to_huggingface(train_items, test_items)\n",
    "print(dataset_dict)"
   ]
  },
  {
   "cell_type": "code",
   "execution_count": null,
   "id": "export_pickle",
   "metadata": {},
   "outputs": [],
   "source": [
    "DatasetExporter.to_pickle(train_items, 'train.pkl')\n",
    "DatasetExporter.to_pickle(test_items, 'test.pkl')\n",
    "print(\"Datasets exported to pickle files\")"
   ]
  },
  {
   "cell_type": "markdown",
   "id": "validation",
   "metadata": {},
   "source": [
    "## Validation"
   ]
  },
  {
   "cell_type": "code",
   "execution_count": null,
   "id": "validate_prompts",
   "metadata": {},
   "outputs": [],
   "source": [
    "sample_item = train_items[398000] if len(train_items) > 398000 else train_items[0]\n",
    "\n",
    "print(\"Sample Training Prompt:\")\n",
    "print(sample_item.prompt)\n",
    "print(\"\\n\" + \"=\"*60 + \"\\n\")\n",
    "\n",
    "tokens = Item.tokenizer.encode(sample_item.prompt)\n",
    "print(f\"Token count: {len(tokens)}\")\n",
    "print(f\"Last 10 tokens: {tokens[-10:]}\")\n",
    "print(f\"Decoded: {Item.tokenizer.batch_decode(tokens[-10:])}\")"
   ]
  },
  {
   "cell_type": "code",
   "execution_count": null,
   "id": "final_summary",
   "metadata": {},
   "outputs": [],
   "source": [
    "print(\"\\n\" + \"=\"*60)\n",
    "print(\"PIPELINE COMPLETED SUCCESSFULLY\")\n",
    "print(\"=\"*60)\n",
    "print(f\"Training items: {len(train_items):,}\")\n",
    "print(f\"Test items: {len(test_items):,}\")\n",
    "print(f\"Average price: ${sum(item.price for item in train_items)/len(train_items):.2f}\")\n",
    "print(f\"Files created: train.pkl, test.pkl\")\n",
    "print(\"=\"*60)"
   ]
  }
 ],
 "metadata": {
  "kernelspec": {
   "display_name": "llms",
   "language": "python",
   "name": "python3"
  },
  "language_info": {
   "codemirror_mode": {
    "name": "ipython",
    "version": 3
   },
   "file_extension": ".py",
   "mimetype": "text/x-python",
   "name": "python",
   "nbconvert_exporter": "python",
   "pygments_lexer": "ipython3",
   "version": "3.11.12"
  }
 },
 "nbformat": 4,
 "nbformat_minor": 5
}
